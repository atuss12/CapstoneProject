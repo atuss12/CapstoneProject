{
  "nbformat": 4,
  "nbformat_minor": 0,
  "metadata": {
    "colab": {
      "provenance": [],
      "authorship_tag": "ABX9TyOczgVGaUR5YYB9XcIh7lXf",
      "include_colab_link": true
    },
    "kernelspec": {
      "name": "python3",
      "display_name": "Python 3"
    },
    "language_info": {
      "name": "python"
    }
  },
  "cells": [
    {
      "cell_type": "markdown",
      "metadata": {
        "id": "view-in-github",
        "colab_type": "text"
      },
      "source": [
        "<a href=\"https://colab.research.google.com/github/atuss12/CapstoneProject/blob/main/Capstone_Project.ipynb\" target=\"_parent\"><img src=\"https://colab.research.google.com/assets/colab-badge.svg\" alt=\"Open In Colab\"/></a>"
      ]
    },
    {
      "cell_type": "code",
      "execution_count": null,
      "metadata": {
        "id": "SNy9ltymfuiz"
      },
      "outputs": [],
      "source": [
        "!pip install langchain_community\n",
        "!pip install replicate"
      ]
    },
    {
      "cell_type": "code",
      "source": [
        "from langchain_community.llms import Replicate\n",
        "import os\n",
        "from google.colab import userdata\n",
        "# Set the API token\n",
        "api_token = userdata.get('api_token')\n",
        "os.environ[\"REPLICATE_API_TOKEN\"] = api_token\n",
        "# Model setup\n",
        "model = \"ibm-granite/granite-3.3-8b-instruct\"\n",
        "output = Replicate(\n",
        "model=model,\n",
        "replicate_api_token=api_token,\n",
        ")\n",
        "\n",
        "# Define the customer comments\n",
        "customer_comments = [\n",
        " \"it took so long to arrive.\",\n",
        " \"I don't think I'll buy it again.\",\n",
        " \"worth every penny.\"\n",
        "]\n",
        "# Refine the prompt to include comments\n",
        "customer_comments_text = \"\\n\".join([f\"comment {i+1}: {comment}\" for i, comment\n",
        "in enumerate(customer_comments)])\n",
        "prompt = f\"\"\"\n",
        "Classify these comments as Positive, Negative, or Mixed:\n",
        "{customer_comments_text}\n",
        "\"\"\"\n",
        "# Invoke the model with the example prompt\n",
        "response = output.invoke(prompt)\n",
        "# Print the response\n",
        "print(\"Granite Model Response:\\n\")\n",
        "print(response)"
      ],
      "metadata": {
        "colab": {
          "base_uri": "https://localhost:8080/"
        },
        "id": "EsRAyoeF_mOP",
        "outputId": "62d1c2d9-9111-4d72-eea3-b1b9c08e20ad"
      },
      "execution_count": 14,
      "outputs": [
        {
          "output_type": "stream",
          "name": "stdout",
          "text": [
            "Granite Model Response:\n",
            "\n",
            "1. Negative: The comment \"it took so long to arrive\" expresses dissatisfaction with the delivery time, indicating a negative sentiment.\n",
            "\n",
            "2. Negative: The statement \"I don't think I'll buy it again\" clearly indicates disapproval and a lack of intention to repurchase, suggesting a negative sentiment.\n",
            "\n",
            "3. Positive: The phrase \"worth every penny\" conveys satisfaction with the product's value, indicating a positive sentiment.\n",
            "\n",
            "So, the classifications are:\n",
            "- Comment 1: Negative\n",
            "- Comment 2: Negative\n",
            "- Comment 3: Positive\n"
          ]
        }
      ]
    },
    {
      "cell_type": "code",
      "source": [],
      "metadata": {
        "id": "PzhnCZw3Rq7t"
      },
      "execution_count": null,
      "outputs": []
    }
  ]
}