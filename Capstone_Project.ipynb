{
  "nbformat": 4,
  "nbformat_minor": 0,
  "metadata": {
    "colab": {
      "provenance": [],
      "authorship_tag": "ABX9TyOW8pBhaLWahkXAVP3I6cbr",
      "include_colab_link": true
    },
    "kernelspec": {
      "name": "python3",
      "display_name": "Python 3"
    },
    "language_info": {
      "name": "python"
    }
  },
  "cells": [
    {
      "cell_type": "markdown",
      "metadata": {
        "id": "view-in-github",
        "colab_type": "text"
      },
      "source": [
        "<a href=\"https://colab.research.google.com/github/atuss12/CapstoneProject/blob/main/Capstone_Project.ipynb\" target=\"_parent\"><img src=\"https://colab.research.google.com/assets/colab-badge.svg\" alt=\"Open In Colab\"/></a>"
      ]
    },
    {
      "cell_type": "code",
      "execution_count": null,
      "metadata": {
        "id": "SNy9ltymfuiz"
      },
      "outputs": [],
      "source": [
        "!pip install langchain_community\n",
        "!pip install replicate"
      ]
    },
    {
      "cell_type": "code",
      "source": [
        "from langchain_community.llms import Replicate\n",
        "import os\n",
        "from google.colab import userdata\n",
        "# Set the API token\n",
        "api_token = userdata.get('api_token')\n",
        "os.environ[\"REPLICATE_API_TOKEN\"] = api_token\n",
        "# Model setup\n",
        "model = \"ibm-granite/granite-3.3-8b-instruct\"\n",
        "output = Replicate(\n",
        "model=model,\n",
        "replicate_api_token=api_token,\n",
        ")\n",
        "\n",
        "# Define the customer comments\n",
        "customer_comments = [\n",
        " \"it took so long to arrive.\",\n",
        " \"I don't think I'll buy it again.\",\n",
        " \"very proud to use this local product.\"\n",
        "]\n",
        "# Refine the prompt to include comments\n",
        "customer_comments_text = \"\\n\".join([f\"comment {i+1}: {comment}\" for i, comment\n",
        "in enumerate(customer_comments)])\n",
        "prompt = f\"\"\"\n",
        "Classify these comments as Positive, Negative, or Mixed:\n",
        "{customer_comments_text}\n",
        "\"\"\"\n",
        "# Invoke the model with the example prompt\n",
        "response = output.invoke(prompt)\n",
        "# Print the response\n",
        "print(\"Granite Model Response:\\n\")\n",
        "print(response)"
      ],
      "metadata": {
        "colab": {
          "base_uri": "https://localhost:8080/"
        },
        "id": "EsRAyoeF_mOP",
        "outputId": "1cd3d1f0-1993-4cc0-8263-ffcfe1b7d483",
        "collapsed": true
      },
      "execution_count": 32,
      "outputs": [
        {
          "output_type": "stream",
          "name": "stdout",
          "text": [
            "Granite Model Response:\n",
            "\n",
            "1. Negative: The comment \"it took so long to arrive\" expresses dissatisfaction with the delivery time, indicating a negative sentiment.\n",
            "\n",
            "2. Negative: \"I don't think I'll buy it again\" clearly indicates dissatisfaction with the product or service, suggesting a negative sentiment.\n",
            "\n",
            "3. Positive: \"very proud to use this local product\" expresses a positive sentiment, showing satisfaction and pride in using the product. This comment can be classified as positive.\n"
          ]
        }
      ]
    },
    {
      "cell_type": "code",
      "source": [
        "# Define refined prompt\n",
        "refined_prompt = f\"\"\"\n",
        "Classify these reviews as positive, negative, or mixed, and tag\n",
        "relevant categories (arrive on time, I will not buy again, or like the product):\n",
        "{customer_comments_text}\n",
        "\"\"\"\n",
        "# Invoke the model with the example prompt\n",
        "response = output.invoke(refined_prompt)\n",
        "# Print the response\n",
        "print(\"Granite Model Refined Response:\\n\")\n",
        "print(response)"
      ],
      "metadata": {
        "id": "PzhnCZw3Rq7t",
        "colab": {
          "base_uri": "https://localhost:8080/"
        },
        "collapsed": true,
        "outputId": "4ab4a595-e4f0-47b7-de43-724d828e7534"
      },
      "execution_count": 33,
      "outputs": [
        {
          "output_type": "stream",
          "name": "stdout",
          "text": [
            "Granite Model Refined Response:\n",
            "\n",
            "1. Negative (arrive on time)\n",
            "2. Negative (I will not buy again)\n",
            "3. Positive (like the product)\n"
          ]
        }
      ]
    },
    {
      "cell_type": "code",
      "source": [
        "# Define the prompt to complete the task in 2 steps\n",
        "multitask_prompt = f\"\"\"\n",
        "Complete the task in 2 steps.\n",
        "Step 1: Classify these comments as positive, negative, or mixed.\n",
        "Step 2: For each comment, identify relevant categories: arrive on time, good product, or quality.\n",
        "{customer_comments_text}\n",
        "\"\"\"\n",
        "response = output.invoke(multitask_prompt)\n",
        "print(\"Granite Model Response:\\n\")\n",
        "print(response)"
      ],
      "metadata": {
        "colab": {
          "base_uri": "https://localhost:8080/"
        },
        "collapsed": true,
        "id": "FnzKsL2TeBuk",
        "outputId": "7280b08e-292c-45e6-acda-f0c12761fcb9"
      },
      "execution_count": 37,
      "outputs": [
        {
          "output_type": "stream",
          "name": "stdout",
          "text": [
            "Granite Model Response:\n",
            "\n",
            "**Step 1: Classification**\n",
            "\n",
            "1. \"it took so long to arrive.\" - Negative\n",
            "2. \"I don't think I'll buy it again.\" - Negative\n",
            "3. \"very proud to use this local product.\" - Positive\n",
            "\n",
            "**Step 2: Identification of Relevant Categories**\n",
            "\n",
            "1. Negative comment (\"it took so long to arrive.\") \n",
            "   - Relevant categories: arrive on time\n",
            "\n",
            "2. Negative comment (\"I don't think I'll buy it again.\")\n",
            "   - Relevant categories: good product, quality (implying dissatisfaction with either delivery or the product itself)\n",
            "\n",
            "3. Positive comment (\"very proud to use this local product.\")\n",
            "   - Relevant categories: good product, quality (indicating pride in the local product, suggesting high quality and satisfaction)\n"
          ]
        }
      ]
    },
    {
      "cell_type": "code",
      "source": [
        "# Define the example to guide the model\n",
        "formatted_prompt = f\"\"\"\n",
        "Classify these comments as Positive, Negative, or Mixed, and tag\n",
        "relevant categories. Use this format:\n",
        "- Sentiment: [Sentiment]\n",
        "- Categories: [Categories].\n",
        "{customer_comments_text}\n",
        "\"\"\"\n",
        "# Invoke the model with prompt\n",
        "response = output.invoke(formatted_prompt)\n",
        "# Print the response\n",
        "print(\"Granite Model Formatted Response:\\n\")\n",
        "print(response)"
      ],
      "metadata": {
        "collapsed": true,
        "colab": {
          "base_uri": "https://localhost:8080/"
        },
        "id": "hM-jyXy1huN1",
        "outputId": "898265e6-b664-4a7f-821e-0d406c4488c3"
      },
      "execution_count": 38,
      "outputs": [
        {
          "output_type": "stream",
          "name": "stdout",
          "text": [
            "Granite Model Formatted Response:\n",
            "\n",
            "- Sentiment: Negative\n",
            "- Categories: Delivery Time\n",
            "\n",
            "- Sentiment: Negative\n",
            "- Categories: Purchase Intent\n",
            "\n",
            "- Sentiment: Positive\n",
            "- Categories: Brand Pride, Local Product Satisfaction\n"
          ]
        }
      ]
    },
    {
      "cell_type": "markdown",
      "source": [
        "Summary"
      ],
      "metadata": {
        "id": "L8zW8UQAjKTv"
      }
    },
    {
      "cell_type": "code",
      "source": [
        "customer_meetings = [\n",
        "\"\"\"\n",
        "Tim data merencanakan analisis terhadap komentar sosial media tentang brand lokal Indonesia\n",
        "seperti Scarlett, MS Glow, dan Kopi Kenangan. Data dikumpulkan dari Twitter, TikTok, dan Instagram, dengan total sekitar 10.000 komentar.\n",
        "Komentar akan diklasifikasikan berdasarkan sentimen (positif, netral, negatif) dan topik utama seperti harga, layanan pelanggan, kualitas produk, pengemasan, dan pengiriman.\n",
        "Model IBM Granite akan digunakan untuk klasifikasi dan ringkasan otomatis. Tujuan akhir proyek adalah menghasilkan insight\n",
        "berbasis data untuk membantu brand memahami persepsi pelanggan dan meningkatkan layanan mereka.A deadline for analytical comments has been set: all results must be submitted by May 30, 2025.\n",
        "\"\"\"\n",
        "]\n",
        "\n",
        "# Refine the prompt to include comments\n",
        "customer_comments_text = \"\\n\".join([f\"comment {i+1}: {comment}\" for i, comment\n",
        "in enumerate(customer_meetings)])\n",
        "prompt = f\"\"\"\n",
        "Summarize this meeting:\n",
        "{customer_comments_text}\n",
        "\"\"\"\n",
        "# Invoke the model with example prompt\n",
        "response = output.invoke(prompt)\n",
        "# Print the response\n",
        "print(\"Granite Model Response:\\n\")\n",
        "response"
      ],
      "metadata": {
        "collapsed": true,
        "colab": {
          "base_uri": "https://localhost:8080/",
          "height": 127
        },
        "id": "sH2s2Bv7jNCw",
        "outputId": "07f9f396-c317-44cf-f89d-8380065c47ac"
      },
      "execution_count": 39,
      "outputs": [
        {
          "output_type": "stream",
          "name": "stdout",
          "text": [
            "Granite Model Response:\n",
            "\n"
          ]
        },
        {
          "output_type": "execute_result",
          "data": {
            "text/plain": [
              "\"In this meeting, Tim proposed an analysis plan to examine social media comments about local Indonesian brands like Scarlett, MS Glow, and Kopi Kenangan. The data, collected from Twitter, TikTok, and Instagram, totals around 10,000 comments. These comments will be classified based on sentiment (positive, neutral, negative) and primary topics such as pricing, customer service, product quality, packaging, and delivery. IBM Granite model will be employed for automatic classification and summarization. The project's ultimate goal is to generate data-driven insights to help brands understand customer perceptions and improve their services. The deadline for submitting analytical results is May 30, 2025.\""
            ],
            "application/vnd.google.colaboratory.intrinsic+json": {
              "type": "string"
            }
          },
          "metadata": {},
          "execution_count": 39
        }
      ]
    },
    {
      "cell_type": "code",
      "source": [
        "# Define refined prompt\n",
        "refined_prompt = f\"\"\"\n",
        "Summarize this meeting in two sentences:\n",
        "{customer_comments_text}\n",
        "\"\"\"\n",
        "# Invoke the model with refined prompt\n",
        "response = output.invoke(refined_prompt)\n",
        "# Print the response\n",
        "print(\"Granite Model Refined Response:\\n\")\n",
        "print(response)\n",
        "\n",
        "# Define the prompt with refined focus area prompt\n",
        "refined_focusarea_prompt = f\"\"\"\n",
        "Summarize this meeting by focusing on key points, decisions made,\n",
        "and action items:\n",
        "{customer_comments_text}\n",
        "\"\"\"\n",
        "response = output.invoke(refined_focusarea_prompt)\n",
        "print(\"Granite Model Response for refined focus area response:\\n\")\n",
        "print(response)\n",
        "\n",
        "# Define the prompt with refined output prompt\n",
        "refined_outputformat_prompt = f\"\"\"\n",
        "Summarize this meeting into a structured format using the following\n",
        "headings: Key Points Discussed, Decisions Made, and Action Items.\n",
        "Mention timelines.\n",
        "Include only two concise bullet points under each heading.\n",
        "{customer_comments_text}\n",
        "\"\"\"\n",
        "response = output.invoke(refined_outputformat_prompt)\n",
        "print(\"Granite Model Response for refined output format response:\\n\")\n",
        "print(response)"
      ],
      "metadata": {
        "collapsed": true,
        "colab": {
          "base_uri": "https://localhost:8080/"
        },
        "id": "_-wx4zgroYDj",
        "outputId": "13908978-33ac-4b8e-a590-ebc5cdb23f8c"
      },
      "execution_count": 40,
      "outputs": [
        {
          "output_type": "stream",
          "name": "stdout",
          "text": [
            "Granite Model Refined Response:\n",
            "\n",
            "In this meeting, Tim proposed a plan to analyze social media comments about local Indonesian brands such as Scarlett, MS Glow, and Kopi Kenango, gathering around 10,000 comments from Twitter, TikTok, and Instagram. These comments will be categorized based on sentiment (positive, neutral, negative) and key topics including price, customer service, product quality, packaging, and delivery. The IBM Granite model will be used for automated classification and summarization, with the goal of generating data-driven insights to help brands understand customer perceptions and improve their services by the deadline of May 30, 2025.\n",
            "Granite Model Response for refined focus area response:\n",
            "\n",
            "**Meeting Summary:**\n",
            "\n",
            "1. **Objective:** Analyze social media comments about local Indonesian brands, including Scarlett, MS Glow, and Kopi Kenango, to understand customer perceptions and improve service quality.\n",
            "\n",
            "2. **Data Collection:** Gathered around 10,000 comments from Twitter, TikTok, and Instagram.\n",
            "\n",
            "3. **Analysis Method:** Comments will be classified based on sentiment (positive, neutral, negative) and main topics (price, customer service, product quality, packaging, and delivery).\n",
            "\n",
            "4. **Tool Utilization:** IBM Granite model will be employed for automatic classification and summarization.\n",
            "\n",
            "5. **Project Goal:** Generate data-driven insights to help brands comprehend customer sentiments and enhance their services.\n",
            "\n",
            "6. **Deadline:** All analytical results must be submitted by May 30, 2025.\n",
            "\n",
            "**Decisions Made:**\n",
            "\n",
            "- Utilize IBM Granite model for sentiment analysis and topic classification.\n",
            "- Focus on key topics: price, customer service, product quality, packaging, and delivery.\n",
            "\n",
            "**Action Items:**\n",
            "\n",
            "- Tim to oversee the data collection from Twitter, TikTok, and Instagram.\n",
            "- Ensure the use of IBM Granite model for analysis.\n",
            "- Classify comments based on sentiment and main topics.\n",
            "- Prepare and submit the final analytical report by May 30, 2025.\n",
            "Granite Model Response for refined output format response:\n",
            "\n",
            "**Key Points Discussed:**\n",
            "\n",
            "- Analysis plan for local Indonesian brand comments on social media platforms (Scarlett, MS Glow, Kopi Kenangan) was proposed.\n",
            "- Data collection from Twitter, TikTok, and Instagram, targeting around 10,000 comments, with classification based on sentiment (positive, neutral, negative) and main topics (price, customer service, product quality, packaging, delivery).\n",
            "\n",
            "**Decisions Made:**\n",
            "\n",
            "- IBM Granite model will be utilized for automatic classification and summarization of the data.\n",
            "- The project aims to generate data-driven insights to help brands understand customer perceptions and improve their services.\n",
            "\n",
            "**Action Items:**\n",
            "\n",
            "- Data collection from specified social media platforms to be initiated.\n",
            "- IBM Granite model implementation for comment classification and summarization to be scheduled.\n",
            "- A deadline of May 30, 2025, was set for submitting the analytical results.\n"
          ]
        }
      ]
    },
    {
      "cell_type": "markdown",
      "source": [
        "Lab 2"
      ],
      "metadata": {
        "id": "kMiiZY4gs4oO"
      }
    },
    {
      "cell_type": "code",
      "source": [
        "# Define the customer comments\n",
        "customer_comments = [\n",
        " \"it took so long to arrive.\",\n",
        " \"I don't think I'll buy it again.\",\n",
        " \"very proud to use this local product.\"\n",
        "]\n",
        "# Refine the prompt to include comments\n",
        "customer_comments_text= \"\\n\".join([f\"comments {i+1}: {comments}\" for i,\n",
        "comments in enumerate(customer_comments)])\n",
        "\n",
        "# Set model parameters for prompting with default values\n",
        "# Refine multiple Model Parameter values\n",
        "parameters = {\n",
        " \"top_k\": 1,\n",
        " \"top_p\": 0.5,\n",
        " \"max_tokens\": 10,\n",
        " \"min_tokens\": 3,\n",
        " \"random_seed\": None,\n",
        " \"repetition_penalty\": 1.5,\n",
        " \"stopping_criteria\": \"length\",\n",
        " \"stopping_sequence\": None\n",
        "}\n",
        "\n",
        "# Add initial prompt\n",
        "refined_prompt = f\"\"\":\n",
        "Classify these comments as positive, negative, or mixed, and tag\n",
        "relevant focus areas such as arrive on time, I will not buy again, or like the product\n",
        "{customer_comments_text}\n",
        "\"\"\"\n",
        "# Invoke the model\n",
        "response = output.invoke(refined_prompt, parameters=parameters)\n",
        "# Print the response\n",
        "print(\"Granite Model Refined Response:\\n\")\n",
        "print(response)"
      ],
      "metadata": {
        "collapsed": true,
        "colab": {
          "base_uri": "https://localhost:8080/"
        },
        "id": "qXF3umx8o7au",
        "outputId": "21b2a593-6c16-48ca-fde5-e85303d638c5"
      },
      "execution_count": 41,
      "outputs": [
        {
          "output_type": "stream",
          "name": "stdout",
          "text": [
            "Granite Model Refined Response:\n",
            "\n",
            "1. Comment 1: Negative, Focus Area - Arrive on time\n",
            "This comment is negative as the user expresses dissatisfaction with the delayed delivery of the product. The relevant focus area is \"arrive on time.\"\n",
            "\n",
            "2. Comment 2: Negative, Focus Area - Purchase intention\n",
            "This comment is negative, indicating the user's intention not to repurchase the product. The relevant focus area here is \"I will not buy again.\"\n",
            "\n",
            "3. Comment 3: Positive, Focus Area - Product appreciation\n",
            "This comment is positive, showing the user's pride in using the local product. The relevant focus area is \"like the product,\" specifically indicating a positive sentiment towards the product itself.\n"
          ]
        }
      ]
    },
    {
      "cell_type": "code",
      "source": [
        "customer_meetings = [\n",
        "\"\"\"\n",
        "Tim data merencanakan analisis terhadap komentar sosial media tentang brand lokal Indonesia\n",
        "seperti Scarlett, MS Glow, dan Kopi Kenangan. Data dikumpulkan dari Twitter, TikTok, dan Instagram, dengan total sekitar 10.000 komentar.\n",
        "Komentar akan diklasifikasikan berdasarkan sentimen (positif, netral, negatif) dan topik utama seperti harga, layanan pelanggan, kualitas produk, pengemasan, dan pengiriman.\n",
        "Model IBM Granite akan digunakan untuk klasifikasi dan ringkasan otomatis. Tujuan akhir proyek adalah menghasilkan insight\n",
        "berbasis data untuk membantu brand memahami persepsi pelanggan dan meningkatkan layanan mereka.A deadline for analytical comments has been set: all results must be submitted by May 30, 2025.\n",
        "\"\"\"\n",
        "]\n",
        "# Refine the prompt to include comments\n",
        "customer_comments_text= \"\\n\".join([f\"comments {i+1}: {comments}\" for i,\n",
        "comments in enumerate(customer_comments)])\n",
        "\n",
        "# Refine max_tokens parameter value\n",
        "parameters = {\n",
        "\"top_k\": 0,\n",
        "\"top_p\": 1.0,\n",
        "\"max_tokens\": 20,\n",
        "\"min_tokens\": 0,\n",
        "\"random_seed\": None,\n",
        "\"repetition_penalty\": 1.0,\n",
        "\"stopping_criteria\": \"length (256 tokens)\",\n",
        "\"stopping_sequence\": None\n",
        "}\n",
        "\n",
        "# Refined prompt with example included\n",
        "refined_focus_prompt = f\"\"\"\n",
        "Summarize this meeting by focusing on key points, decisions, and\n",
        "action items\n",
        "{customer_comments_text}\n",
        "\"\"\"\n",
        "# Invoke the model with the refined focus prompt\n",
        "response = output.invoke(refined_focus_prompt,\n",
        "parameters=parameters)\n",
        "# Print the response\n",
        "print(\"Granite Model Response for refined focus area response:\\n\")\n",
        "print(response)"
      ],
      "metadata": {
        "collapsed": true,
        "colab": {
          "base_uri": "https://localhost:8080/"
        },
        "id": "2IX9NJ0LwvTH",
        "outputId": "b6520d48-7aaa-45a0-bf1c-29fa4e109f3d"
      },
      "execution_count": 42,
      "outputs": [
        {
          "output_type": "stream",
          "name": "stdout",
          "text": [
            "Granite Model Response for refined focus area response:\n",
            "\n",
            "Key Points:\n",
            "- The meeting discussed a product, implying a potential review or feedback session.\n",
            "- There were mixed reactions regarding the product's delivery time and quality.\n",
            "\n",
            "Decisions:\n",
            "- No explicit decisions were mentioned in the provided comments.\n",
            "\n",
            "Action Items:\n",
            "- Reconsider purchasing the product due to the extended delivery time (from comment 1 and 2).\n",
            "- Continue supporting local products, suggesting potential promotion or further investigation of the product's quality and delivery process (from comment 3).\n",
            "\n",
            "Summary:\n",
            "The meeting focused on a local product, with participants expressing dissatisfaction over prolonged delivery times (comments 1 and 2). This may lead to reconsidering future purchases. However, there is also appreciation for the product's local origin (comment 3), suggesting an action item to investigate and potentially promote the product further, addressing concerns about delivery times to enhance customer satisfaction.\n"
          ]
        }
      ]
    }
  ]
}